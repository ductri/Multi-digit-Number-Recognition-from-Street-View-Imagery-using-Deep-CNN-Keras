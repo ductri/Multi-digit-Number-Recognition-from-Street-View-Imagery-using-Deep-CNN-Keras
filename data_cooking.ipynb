{
 "cells": [
  {
   "cell_type": "code",
   "execution_count": 74,
   "metadata": {
    "collapsed": true
   },
   "outputs": [],
   "source": [
    "import h5py\n",
    "import numpy as np\n",
    "from skimage import io\n",
    "from skimage import transform\n",
    "import skimage\n",
    "import cPickle as pickle"
   ]
  },
  {
   "cell_type": "code",
   "execution_count": 75,
   "metadata": {
    "collapsed": true
   },
   "outputs": [],
   "source": [
    "ROOT_PATH = './data/train/'"
   ]
  },
  {
   "cell_type": "code",
   "execution_count": 76,
   "metadata": {
    "collapsed": false
   },
   "outputs": [],
   "source": [
    "file = h5py.File(ROOT_PATH + 'digitStruct.mat', 'r')"
   ]
  },
  {
   "cell_type": "code",
   "execution_count": 77,
   "metadata": {
    "collapsed": true
   },
   "outputs": [],
   "source": [
    "digitStruct = file['/digitStruct']\n",
    "digitName = digitStruct.get('name')\n",
    "digitBox = digitStruct.get('bbox')"
   ]
  },
  {
   "cell_type": "code",
   "execution_count": 78,
   "metadata": {
    "collapsed": false
   },
   "outputs": [],
   "source": [
    "file = h5py.File(ROOT_PATH + 'digitStruct.mat', 'r')\n",
    "def get_name(file):\n",
    "    output_name = []\n",
    "    digitStruct = file['/digitStruct']\n",
    "    digitName = digitStruct.get('name')\n",
    "    digitBox = digitStruct.get('bbox')\n",
    "    \n",
    "    # For name\n",
    "    for name in digitName:\n",
    "        output_name.append(''.join([chr(v[0]) for v in file[name[0]].value]))\n",
    "    return output_name\n",
    "\n",
    "def get_box(file):\n",
    "    def get_box_data(index, hdf5_data):\n",
    "        \"\"\"\n",
    "        get `left, top, width, height` of each picture\n",
    "        :param index:\n",
    "        :param hdf5_data:\n",
    "        :return:\n",
    "        \"\"\"\n",
    "        meta_data = dict()\n",
    "        meta_data['height'] = []\n",
    "        meta_data['label'] = []\n",
    "        meta_data['left'] = []\n",
    "        meta_data['top'] = []\n",
    "        meta_data['width'] = []\n",
    "\n",
    "        def print_attrs(name, obj):\n",
    "            vals = []\n",
    "            if obj.shape[0] == 1:\n",
    "                vals.append(obj[0][0])\n",
    "            else:\n",
    "                for k in range(obj.shape[0]):\n",
    "                    vals.append(int(hdf5_data[obj[k][0]][0][0]))\n",
    "            meta_data[name] = vals\n",
    "\n",
    "        box = hdf5_data['/digitStruct/bbox'][index]\n",
    "        hdf5_data[box[0]].visititems(print_attrs)\n",
    "        return meta_data\n",
    "    output_box = []\n",
    "    for i in range(digitBox.shape[0]):\n",
    "        box = get_box_data(i, file)\n",
    "        output_box.append(box)\n",
    "    return output_box"
   ]
  },
  {
   "cell_type": "code",
   "execution_count": 79,
   "metadata": {
    "collapsed": true
   },
   "outputs": [],
   "source": [
    "output_box = get_box(file)\n",
    "output_name = get_name(file)\n"
   ]
  },
  {
   "cell_type": "code",
   "execution_count": 80,
   "metadata": {
    "collapsed": false
   },
   "outputs": [
    {
     "data": {
      "text/plain": [
       "33402"
      ]
     },
     "execution_count": 80,
     "metadata": {},
     "output_type": "execute_result"
    }
   ],
   "source": [
    "len(output_box)"
   ]
  },
  {
   "cell_type": "code",
   "execution_count": 81,
   "metadata": {
    "collapsed": false
   },
   "outputs": [
    {
     "data": {
      "text/plain": [
       "33402"
      ]
     },
     "execution_count": 81,
     "metadata": {},
     "output_type": "execute_result"
    }
   ],
   "source": [
    "len(output_name)"
   ]
  },
  {
   "cell_type": "code",
   "execution_count": 82,
   "metadata": {
    "collapsed": false
   },
   "outputs": [
    {
     "name": "stdout",
     "output_type": "stream",
     "text": [
      "Done\n"
     ]
    }
   ],
   "source": [
    "IMAGE_WIDTH = 54\n",
    "IMAGE_HEIGHT = 54\n",
    "train_dataset = np.zeros((len(output_box), IMAGE_HEIGHT, IMAGE_WIDTH, 1))\n",
    "for i in range(len(output_box)):\n",
    "    file_name = output_name[i]\n",
    "    box = output_box[i]\n",
    "    img = io.imread(ROOT_PATH + file_name, as_grey=True)\n",
    "    img = transform.resize(img, output_shape=(IMAGE_HEIGHT, IMAGE_WIDTH))\n",
    "    img = skimage.img_as_float(img)\n",
    "    img = img.reshape((IMAGE_HEIGHT, IMAGE_WIDTH, 1))\n",
    "    train_dataset[i, :, :, :] = img\n",
    "print('Done')"
   ]
  },
  {
   "cell_type": "code",
   "execution_count": 83,
   "metadata": {
    "collapsed": false
   },
   "outputs": [
    {
     "data": {
      "text/plain": [
       "(54, 54)"
      ]
     },
     "execution_count": 83,
     "metadata": {},
     "output_type": "execute_result"
    }
   ],
   "source": [
    "train_dataset[20, :, :, 0].shape"
   ]
  },
  {
   "cell_type": "code",
   "execution_count": 84,
   "metadata": {
    "collapsed": false
   },
   "outputs": [
    {
     "data": {
      "image/png": "[encoded data removed]",
      "text/plain": [
       "<matplotlib.figure.Figure at 0x7f7705752910>"
      ]
     },
     "metadata": {},
     "output_type": "display_data"
    }
   ],
   "source": [
    "io.imshow(train_dataset[20, :, :, 0])\n",
    "io.show()"
   ]
  },
  {
   "cell_type": "code",
   "execution_count": 85,
   "metadata": {
    "collapsed": false
   },
   "outputs": [
    {
     "name": "stdout",
     "output_type": "stream",
     "text": [
      "Done\n"
     ]
    }
   ],
   "source": [
    "train_labels = np.zeros((len(output_box)), dtype=int)\n",
    "for i in range(len(output_box)):\n",
    "    box = output_box[i]\n",
    "    try:\n",
    "        train_labels[i] = int(''.join(map(lambda x: str(int(x)), box['label'])))\n",
    "    except:\n",
    "        print(box['label'])\n",
    "        print('index' + str(i))\n",
    "        train_labels[i] = -1\n",
    "print('Done')\n"
   ]
  },
  {
   "cell_type": "code",
   "execution_count": 86,
   "metadata": {
    "collapsed": false
   },
   "outputs": [],
   "source": [
    "training = (train_dataset, train_labels)\n",
    "pickle.dump(training, open('./data/training.pkl', 'wb'))"
   ]
  },
  {
   "cell_type": "code",
   "execution_count": 87,
   "metadata": {
    "collapsed": false
   },
   "outputs": [
    {
     "data": {
      "text/plain": [
       "47"
      ]
     },
     "execution_count": 87,
     "metadata": {},
     "output_type": "execute_result"
    }
   ],
   "source": [
    "train_labels[22]"
   ]
  },
  {
   "cell_type": "code",
   "execution_count": 88,
   "metadata": {
    "collapsed": false
   },
   "outputs": [
    {
     "data": {
      "text/plain": [
       "2"
      ]
     },
     "execution_count": 88,
     "metadata": {},
     "output_type": "execute_result"
    }
   ],
   "source": [
    "int(str(int(output_box[20]['label'][0])))"
   ]
  },
  {
   "cell_type": "code",
   "execution_count": 89,
   "metadata": {
    "collapsed": false
   },
   "outputs": [
    {
     "data": {
      "text/plain": [
       "2"
      ]
     },
     "execution_count": 89,
     "metadata": {},
     "output_type": "execute_result"
    }
   ],
   "source": [
    "train_labels[20]"
   ]
  },
  {
   "cell_type": "code",
   "execution_count": null,
   "metadata": {
    "collapsed": true
   },
   "outputs": [],
   "source": []
  }
 ],
 "metadata": {
  "kernelspec": {
   "display_name": "Python 2",
   "language": "python",
   "name": "python2"
  },
  "language_info": {
   "codemirror_mode": {
    "name": "ipython",
    "version": 2
   },
   "file_extension": ".py",
   "mimetype": "text/x-python",
   "name": "python",
   "nbconvert_exporter": "python",
   "pygments_lexer": "ipython2",
   "version": "2.7.13"
  }
 },
 "nbformat": 4,
 "nbformat_minor": 2
}
